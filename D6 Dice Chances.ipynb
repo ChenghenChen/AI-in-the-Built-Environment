{
  "nbformat": 4,
  "nbformat_minor": 0,
  "metadata": {
    "colab": {
      "provenance": [],
      "authorship_tag": "ABX9TyNLCEw2y1M1TPj0X+DCzNwz",
      "include_colab_link": true
    },
    "kernelspec": {
      "name": "python3",
      "display_name": "Python 3"
    },
    "language_info": {
      "name": "python"
    }
  },
  "cells": [
    {
      "cell_type": "markdown",
      "metadata": {
        "id": "view-in-github",
        "colab_type": "text"
      },
      "source": [
        "<a href=\"https://colab.research.google.com/github/ChenghenChen/AI-in-the-Built-Environment/blob/main/D6%20Dice%20Chances.ipynb\" target=\"_parent\"><img src=\"https://colab.research.google.com/assets/colab-badge.svg\" alt=\"Open In Colab\"/></a>"
      ]
    },
    {
      "cell_type": "code",
      "execution_count": 29,
      "metadata": {
        "colab": {
          "base_uri": "https://localhost:8080/"
        },
        "id": "YCmwt8RU8Ztr",
        "outputId": "03cfa9b0-eb26-4366-de66-a4046d28b679"
      },
      "outputs": [
        {
          "output_type": "execute_result",
          "data": {
            "text/plain": [
              "0.45314"
            ]
          },
          "metadata": {},
          "execution_count": 29
        }
      ],
      "source": [
        "import random\n",
        "\n",
        "def dynamic_allocate_points(dice, points):\n",
        "    needs = sorted((max(0, 4 - die), i) for i, die in enumerate(dice))\n",
        "    # 根据每个骰子距离4点的远近动态调整，优先解决接近4的骰子\n",
        "    for need, index in sorted(needs, key=lambda x: x[0]):\n",
        "        if points <= 0:\n",
        "            break\n",
        "        if need > 0:\n",
        "            add_points = min(need, points)\n",
        "            dice[index] += add_points\n",
        "            points -= add_points\n",
        "    return dice\n",
        "\n",
        "# 模拟投掷7个骰子，每次可以自由分配3点\n",
        "trials = 200000\n",
        "success_count = 0\n",
        "\n",
        "for _ in range(trials):\n",
        "    dice = [random.randint(1, 6) for _ in range(7)]\n",
        "\n",
        "    # 自动分配点数\n",
        "    dice = dynamic_allocate_points(dice, 6)\n",
        "\n",
        "    # 检查是否所有骰子都至少4点\n",
        "    if all(die >= 4 for die in dice):\n",
        "        success_count += 1\n",
        "\n",
        "# 计算实际成功率\n",
        "actual_success_rate = success_count / trials\n",
        "actual_success_rate\n"
      ]
    },
    {
      "cell_type": "code",
      "source": [
        "import random\n",
        "\n",
        "def allocate_points_to_reach_goal(dice, points, goal_count):\n",
        "    # 需要提升的骰子，按离4点的距离排序\n",
        "    needs = sorted((max(0, 4 - die), i) for i, die in enumerate(dice))\n",
        "    successful_dice = sum(1 for die in dice if die >= 4)\n",
        "\n",
        "    # 如果已经有足够数量的骰子达到4点，无需分配\n",
        "    if successful_dice >= goal_count:\n",
        "        return dice\n",
        "\n",
        "    # 否则分配点数\n",
        "    for need, index in needs:\n",
        "        if points <= 0 or successful_dice >= goal_count:\n",
        "            break\n",
        "        if need > 0:\n",
        "            add_points = min(need, points)\n",
        "            dice[index] += add_points\n",
        "            points -= add_points\n",
        "            if dice[index] >= 4:\n",
        "                successful_dice += 1\n",
        "\n",
        "    return dice\n",
        "\n",
        "# 模拟投掷7个骰子，每次可以自由分配3点，需要至少4个骰子达到4点\n",
        "trials = 200000\n",
        "success_count = 0\n",
        "\n",
        "for _ in range(trials):\n",
        "    dice = [random.randint(1, 6) for _ in range(7)]\n",
        "\n",
        "    # 自动分配点数，目标是至少4个骰子达到4点以上\n",
        "    dice = allocate_points_to_reach_goal(dice, 3, 4)\n",
        "\n",
        "    # 检查是否至少有4个骰子都至少4点\n",
        "    if sum(1 for die in dice if die >= 4) >= 4:\n",
        "        success_count += 1\n",
        "\n",
        "# 计算实际成功率\n",
        "actual_success_rate = success_count / trials\n",
        "actual_success_rate\n"
      ],
      "metadata": {
        "colab": {
          "base_uri": "https://localhost:8080/"
        },
        "id": "Aq_9m8UB_Jio",
        "outputId": "b3b4b7a0-464d-49e6-ffdb-f4f04c3c3203"
      },
      "execution_count": 32,
      "outputs": [
        {
          "output_type": "execute_result",
          "data": {
            "text/plain": [
              "0.93112"
            ]
          },
          "metadata": {},
          "execution_count": 32
        }
      ]
    },
    {
      "cell_type": "code",
      "source": [
        "import random\n",
        "\n",
        "def allocate_points_to_reach_goal(dice, points, goal_count):\n",
        "    # 需要提升的骰子，按离4点的距离排序\n",
        "    needs = sorted((max(0, 4 - die), i) for i, die in enumerate(dice))\n",
        "    successful_dice = sum(1 for die in dice if die >= 4)\n",
        "\n",
        "    # 如果已经有足够数量的骰子达到4点，无需分配\n",
        "    if successful_dice >= goal_count:\n",
        "        return dice\n",
        "\n",
        "    # 否则分配点数\n",
        "    for need, index in needs:\n",
        "        if points <= 0 or successful_dice >= goal_count:\n",
        "            break\n",
        "        if need > 0:\n",
        "            add_points = min(need, points)\n",
        "            dice[index] += add_points\n",
        "            points -= add_points\n",
        "            if dice[index] >= 4:\n",
        "                successful_dice += 1\n",
        "\n",
        "    return dice\n",
        "\n",
        "def simulate_success_probabilities(trials, dice_count, points):\n",
        "    success_probabilities = []\n",
        "    for success_count in range(1, dice_count + 1):\n",
        "        success_count_total = 0\n",
        "        for _ in range(trials):\n",
        "            dice = [random.randint(1, 6) for _ in range(dice_count)]\n",
        "            dice = allocate_points_to_reach_goal(dice, points, success_count)\n",
        "            if sum(1 for die in dice if die >= 4) >= success_count:\n",
        "                success_count_total += 1\n",
        "        success_probabilities.append(success_count_total / trials)\n",
        "    return success_probabilities\n",
        "\n",
        "trials = 200000\n",
        "dice_count = 6\n",
        "points = 6\n",
        "success_probabilities = simulate_success_probabilities(trials, dice_count, points)\n",
        "success_probabilities\n"
      ],
      "metadata": {
        "colab": {
          "base_uri": "https://localhost:8080/"
        },
        "id": "T2pBxNtXDvCj",
        "outputId": "316aff73-2533-4e8a-f773-b741e73529c0"
      },
      "execution_count": 35,
      "outputs": [
        {
          "output_type": "execute_result",
          "data": {
            "text/plain": [
              "[1.0, 1.0, 0.99941, 0.984895, 0.883785, 0.58652]"
            ]
          },
          "metadata": {},
          "execution_count": 35
        }
      ]
    },
    {
      "cell_type": "markdown",
      "source": [],
      "metadata": {
        "id": "C9LAIqpL_LxH"
      }
    }
  ]
}